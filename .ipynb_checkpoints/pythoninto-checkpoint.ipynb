{
 "cells": [
  {
   "cell_type": "code",
   "execution_count": 4,
   "metadata": {},
   "outputs": [
    {
     "name": "stdout",
     "output_type": "stream",
     "text": [
      "8\n",
      "4\n",
      "28\n",
      "3\n",
      "3\n",
      "16\n"
     ]
    }
   ],
   "source": [
    "# Thực hiện các phép tính cơ bản\n",
    "# Cộng\n",
    "print(5 + 3)\n",
    "# Trừ\n",
    "print(6 - 2)\n",
    "# Nhân\n",
    "print(7 * 4)\n",
    "# Chia\n",
    "print(15 / 5)\n",
    "# Chia lấy phần dư\n",
    "print(15 % 4)\n",
    "# Luỹ thừa\n",
    "print(2 ** 4)"
   ]
  },
  {
   "cell_type": "code",
   "execution_count": 5,
   "metadata": {},
   "outputs": [
    {
     "name": "stdout",
     "output_type": "stream",
     "text": [
      "<type 'int'>\n"
     ]
    }
   ],
   "source": [
    "# Khai báo biến, kiểu biến\n",
    "\n",
    "# integer\n",
    "one = 1\n",
    "nine = 9\n",
    "big_number = 10000\n",
    "\n",
    "# boolean\n",
    "true_bool = True\n",
    "false_bool = False\n",
    "\n",
    "# string\n",
    "name = \"Python\"\n",
    "\n",
    "# float\n",
    "pi = 3.14\n",
    "\n",
    "# Kiểm tra kiểu dữ liệu của biến\n",
    "some_var = 100\n",
    "print(type(some_var))\n",
    "\n"
   ]
  },
  {
   "cell_type": "code",
   "execution_count": 7,
   "metadata": {},
   "outputs": [
    {
     "name": "stdout",
     "output_type": "stream",
     "text": [
      "Data scientist with Python\n",
      "5 is greater than 3\n",
      "5 is greater than 3\n",
      "5 is greater than 3\n",
      "1\n",
      "2\n",
      "3\n",
      "4\n",
      "5\n",
      "6\n",
      "7\n",
      "8\n",
      "9\n",
      "10\n",
      "True\n",
      "1\n",
      "2\n",
      "3\n",
      "4\n",
      "5\n",
      "6\n",
      "7\n",
      "8\n",
      "9\n",
      "10\n"
     ]
    }
   ],
   "source": [
    "# Cấu trúc lặp, điều khiển\n",
    "\n",
    "# if\n",
    "if True: \n",
    "    print(\"Data scientist with Python\")\n",
    "\n",
    "if 5 > 3:\n",
    "    print(\"5 is greater than 3\")\n",
    "    \n",
    "# if ... else\n",
    "if 5 > 3:\n",
    "    print(\"5 is greater than 3\")\n",
    "else:\n",
    "    print(\"5 is not greater than 3\")\n",
    "    \n",
    "# if ... elif ... else\n",
    "if 5 > 3:\n",
    "    print(\"5 is greater than 3\")\n",
    "elif 5 < 3:\n",
    "    print(\"5 is not greater than 3\")\n",
    "else:\n",
    "    print(\"5 is equal to 3\")\n",
    "    \n",
    "# Vòng lặp while\n",
    "number = 1\n",
    "\n",
    "while number <= 10:\n",
    "    print(number)\n",
    "    number = number + 1\n",
    "\n",
    "condition = True\n",
    "\n",
    "while condition:\n",
    "    print(condition)\n",
    "    condition = False\n",
    "    \n",
    "# Vòng lặp for\n",
    "for i in range(1,11):\n",
    "    print(i)\n",
    "    "
   ]
  },
  {
   "cell_type": "code",
   "execution_count": 20,
   "metadata": {},
   "outputs": [
    {
     "name": "stdout",
     "output_type": "stream",
     "text": [
      "3\n",
      "15\n",
      "5\n"
     ]
    }
   ],
   "source": [
    "# Khai báo, sử dụng hàm\n",
    "# Khai báo hàm\n",
    "def sum(a, b): \n",
    "    return a + b\n",
    "\n",
    "# Sử dụng hàm\n",
    "c = sum(1, 2)\n",
    "print(c)\n",
    "\n",
    "print (sum(5, 10))\n",
    "\n",
    "d = sum(9, 1) / 2\n",
    "print(d)"
   ]
  },
  {
   "cell_type": "code",
   "execution_count": 36,
   "metadata": {},
   "outputs": [
    {
     "name": "stdout",
     "output_type": "stream",
     "text": [
      "My list: [1, 2, 3, 4, 5]\n",
      "4\n",
      "1\n",
      "2\n",
      "2\n",
      "6\n",
      "Orange\n",
      "Banana\n",
      "Sublist : [2, 3]\n",
      "Another sub list: [1, 2]\n",
      "[1, 2, 3]\n",
      "1\n",
      "My list: [1, 2, 3, 4, 5]\n",
      "My list: [1, 9, 3, 8, 7]\n",
      "Sugar\n",
      "Pen\n",
      "['Pen', 'Bag', 'Sugar', 'Fish']\n",
      "Another_store: ['Pen', 'Bag', 'Sugar', 'Fish', 'Meat', 'Shoes']\n",
      "My list: [1, 3, 4, 5]\n"
     ]
    }
   ],
   "source": [
    "# Kiểu list, các thao tác trên list\n",
    "# List integer\n",
    "my_list = [1, 2, 3, 4, 5]\n",
    "print(\"My list: %s\" % my_list)\n",
    "\n",
    "# Lấy giá trị từ list\n",
    "print(my_list[3])\n",
    "print(my_list[0])\n",
    "print(my_list[1])\n",
    "print(my_list[-4]) # Có thể dùng chỉ số âm\n",
    "\n",
    "# Tính toán với list\n",
    "print(my_list[1] + my_list[3])\n",
    "\n",
    "# List string\n",
    "fruit = [\n",
    "    \"Banana\",\n",
    "    \"Apple\",\n",
    "    \"Orange\",\n",
    "    \"Mango\",\n",
    "    \"Lemon\"\n",
    "]\n",
    "\n",
    "# Lấy giá trị từ list\n",
    "print(fruit[2])\n",
    "print(fruit[0])\n",
    "\n",
    "# List con\n",
    "sub_list = my_list[1:3]\n",
    "another_sub_list = my_list[:2]\n",
    "print(\"Sublist : %s\" %sub_list)\n",
    "print(\"Another sub list: %s\" % another_sub_list)\n",
    "# List 2 chiều\n",
    "numbers = [\n",
    "    [1, 2, 3],\n",
    "    [4, 5, 6],\n",
    "    [7, 8, 9]\n",
    "]\n",
    "\n",
    "print(numbers[0])\n",
    "print(numbers[0][0])\n",
    "\n",
    "\n",
    "# Thay thế các phần tử trong List\n",
    "\n",
    "# Trước khi thay thế\n",
    "my_list = [1, 2, 3, 4, 5]\n",
    "print(\"My list: %s\" % my_list)\n",
    "\n",
    "# Sau khi thay thế\n",
    "my_list[1] = 9\n",
    "my_list[3:] = [8, 7]\n",
    "print(\"My list: %s\" % my_list)\n",
    "\n",
    "# Mở rộng List\n",
    "\n",
    "# Thêm phần tử vào List\n",
    "store = []\n",
    "\n",
    "store.append(\"Pen\")\n",
    "store.append(\"Bag\")\n",
    "store.append(\"Sugar\")\n",
    "\n",
    "print(store[2])\n",
    "print(store[0])\n",
    "\n",
    "# Ta còn có thể thêm cả biến\n",
    "fish = \"Fish\"\n",
    "store.append(fish)\n",
    "\n",
    "print(store)\n",
    "\n",
    "# Một cách mở rộng khác\n",
    "another_store = store + [\"Meat\", \"Shoes\"]\n",
    "print(\"Another_store: %s\" % another_store)\n",
    "\n",
    "# Xoá phần tử trong List\n",
    "\n",
    "# Trước khi thay xoá\n",
    "my_list = [1, 2, 3, 4, 5]\n",
    "\n",
    "del(my_list[1])\n",
    "\n",
    "#Sau khi xoá\n",
    "print(\"My list: %s\" % my_list)"
   ]
  },
  {
   "cell_type": "code",
   "execution_count": 16,
   "metadata": {},
   "outputs": [
    {
     "name": "stdout",
     "output_type": "stream",
     "text": [
      "Student's name: Teo\n",
      "Student's class: 12A3\n",
      "Student's age: 18\n",
      "{'age': 18, 'name': 'Teo', 'gpa': 6.5, 'class': '12A3'}\n"
     ]
    }
   ],
   "source": [
    "# Kiểu dictionary, các thao tác trên dictionary\n",
    "example = {\n",
    "    \"key\" : \"value\",\n",
    "    \"key1\" : \"value1\",\n",
    "    \"key2\" : \"value2\"\n",
    "}\n",
    "\n",
    "dictionary_student = {\n",
    "    \"name\" : \"Teo\",\n",
    "    \"class\" : \"12A3\",\n",
    "}\n",
    "\n",
    "print(\"Student's name: %s\" % dictionary_student[\"name\"])\n",
    "print(\"Student's class: %s\" % dictionary_student[\"class\"])\n",
    "\n",
    "# Có thể dùng bất kì kiểu dữ liệu gì làm value\n",
    "dictionary_student = {\n",
    "    \"name\" : \"Teo\",\n",
    "    \"class\" : \"12A3\",\n",
    "    \"age\" : 18\n",
    "}\n",
    "\n",
    "print(\"Student's age: %i\" % dictionary_student[\"age\"])\n",
    "\n",
    "# Thêm phần tử vào dictionary\n",
    "dictionary_student[\"gpa\"] = 6.5\n",
    "print(dictionary_student)"
   ]
  },
  {
   "cell_type": "code",
   "execution_count": 38,
   "metadata": {},
   "outputs": [
    {
     "name": "stdout",
     "output_type": "stream",
     "text": [
      "3.14159265359\n",
      "3.14159265359\n",
      "3.14159265359\n"
     ]
    }
   ],
   "source": [
    "# Cách import các thư viện\n",
    "\n",
    "\n",
    "import math\n",
    "\n",
    "print(math.pi)\n",
    "\n",
    "from math import pi\n",
    "\n",
    "print(pi)\n",
    "\n",
    "from math import pi as my_pi\n",
    "\n",
    "print(my_pi)"
   ]
  },
  {
   "cell_type": "code",
   "execution_count": null,
   "metadata": {},
   "outputs": [],
   "source": []
  }
 ],
 "metadata": {
  "kernelspec": {
   "display_name": "Python 3",
   "language": "python",
   "name": "python3"
  },
  "language_info": {
   "codemirror_mode": {
    "name": "ipython",
    "version": 2
   },
   "file_extension": ".py",
   "mimetype": "text/x-python",
   "name": "python",
   "nbconvert_exporter": "python",
   "pygments_lexer": "ipython2",
   "version": "2.7.12"
  }
 },
 "nbformat": 4,
 "nbformat_minor": 2
}
